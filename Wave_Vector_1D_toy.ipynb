{
 "cells": [
  {
   "cell_type": "code",
   "execution_count": 1,
   "metadata": {},
   "outputs": [],
   "source": [
    "import math\n",
    "import numpy as np\n",
    "import matplotlib.pyplot as plt\n"
   ]
  },
  {
   "cell_type": "code",
   "execution_count": 3,
   "metadata": {},
   "outputs": [
    {
     "data": {
      "application/vnd.jupyter.widget-view+json": {
       "model_id": "fd9aa600a2f442c68a348a26bd24ee6f",
       "version_major": 2,
       "version_minor": 0
      },
      "text/plain": [
       "interactive(children=(FloatSlider(value=0.0, description='k1', max=0.5, min=-0.5), FloatSlider(value=0.0, desc…"
      ]
     },
     "metadata": {},
     "output_type": "display_data"
    },
    {
     "data": {
      "text/plain": [
       "<function __main__.plot_1d_wf>"
      ]
     },
     "execution_count": 3,
     "metadata": {},
     "output_type": "execute_result"
    }
   ],
   "source": [
    "def plot_1d_wf(k1, k2):\n",
    "    a1 = 1.0\n",
    "    b1 = 2*np.pi/a1\n",
    "    \n",
    "    k = b1 * k1\n",
    "    k_ = b1 * k2\n",
    "    \n",
    "    x = np.linspace(-a1 * 3, a1 * 3, 1000)\n",
    "    \n",
    "    fig, ax = plt.subplots()\n",
    "    ymin = -1.5\n",
    "    ymax = 1.5\n",
    "    plt.ylim(ymin, ymax)\n",
    "    ax.set_xticks(np.linspace(-a1 * 3, +a1 * 3, 7))\n",
    "    ax.set_xticklabels([\"-3a\", \"-2a\", \"-a\", \"0\", \"a\", \"2a\", \"3a\"])\n",
    "    \n",
    "    \n",
    "    \n",
    "    for i in range(0, 4):\n",
    "        plt.vlines(i  * a1, ymin, ymax, linestyle = 'dashed', linewidth = 0.5)\n",
    "        plt.vlines(-i * a1, ymin, ymax, linestyle = 'dashed', linewidth = 0.5)\n",
    "    \n",
    "    plt.plot(x, np.cos(k*x), color='r', ls='-', label='cos kx')  # real part of  exp(ikx)\n",
    "    plt.plot(x, np.cos(k_*x), color='b', ls='-', label='cos kx')  # real part of  exp(ikx)\n",
    "    plt.show()\n",
    "\n",
    "\n",
    "from ipywidgets import interact\n",
    "interact(plot_1d_wf, k1 = (-0.5, 0.5, 0.1), k2=(-1.5,1.5,0.1))\n",
    "\n"
   ]
  },
  {
   "cell_type": "code",
   "execution_count": 5,
   "metadata": {},
   "outputs": [
    {
     "data": {
      "application/vnd.jupyter.widget-view+json": {
       "model_id": "b255a5803bba4a4bbbcbf164e2f01bc4",
       "version_major": 2,
       "version_minor": 0
      },
      "text/plain": [
       "interactive(children=(FloatSlider(value=0.0, description='k1', max=0.5, min=-0.5), IntSlider(value=0, descript…"
      ]
     },
     "metadata": {},
     "output_type": "display_data"
    },
    {
     "data": {
      "text/plain": [
       "<function __main__.plot_1d_wf2>"
      ]
     },
     "execution_count": 5,
     "metadata": {},
     "output_type": "execute_result"
    }
   ],
   "source": [
    "def plot_1d_wf2(k1, G1, G2):\n",
    "    a1 = 1.0\n",
    "    b1 = 2*np.pi/a1\n",
    "    \n",
    "    k = b1 * (k1+G1+G2)\n",
    "    x = np.linspace(-a1 * 2, a1 * 2, 1000)\n",
    "    \n",
    "    ymin = -1.5\n",
    "    ymax = 1.5\n",
    "    fig, ax = plt.subplots()\n",
    "    ax.set_xticks(np.linspace(-a1 * 2, +a1 * 2, 5))\n",
    "    ax.set_xticklabels([\"-2a\", \"-a\", \"0\", \"a\", \"2a\"])\n",
    "    plt.ylim(ymin, ymax)\n",
    "\n",
    "    for i in range(0, 3):\n",
    "        plt.vlines(i  * a1, ymin, ymax, linestyle = 'dashed', linewidth = 0.5)\n",
    "        plt.vlines(-i * a1, ymin, ymax, linestyle = 'dashed', linewidth = 0.5)\n",
    "    \n",
    "    plt.plot(x, np.cos(k*x), color='r', ls='-', label='cos kx')  # real part of  exp(ikx)\n",
    "    plt.show()\n",
    "\n",
    "\n",
    "from ipywidgets import interact\n",
    "interact(plot_1d_wf2, k1 = (-0.5, 0.5, 0.1), G1=(-5,5,1), G2=(-5, 5, 1))\n",
    "\n"
   ]
  },
  {
   "cell_type": "code",
   "execution_count": null,
   "metadata": {},
   "outputs": [],
   "source": []
  }
 ],
 "metadata": {
  "kernelspec": {
   "display_name": "Python 3",
   "language": "python",
   "name": "python3"
  },
  "language_info": {
   "codemirror_mode": {
    "name": "ipython",
    "version": 3
   },
   "file_extension": ".py",
   "mimetype": "text/x-python",
   "name": "python",
   "nbconvert_exporter": "python",
   "pygments_lexer": "ipython3",
   "version": "3.5.3"
  }
 },
 "nbformat": 4,
 "nbformat_minor": 2
}
